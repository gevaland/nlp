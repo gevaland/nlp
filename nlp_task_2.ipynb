{
  "cells": [
    {
      "cell_type": "code",
      "source": [
        "!pip install chardet beautifulsoup4 scikit-learn"
      ],
      "metadata": {
        "colab": {
          "base_uri": "https://localhost:8080/"
        },
        "id": "0QXi8j6fJYu8",
        "outputId": "5ac086a2-f8cc-433a-f7b5-ebebf19c50c5"
      },
      "id": "0QXi8j6fJYu8",
      "execution_count": 1,
      "outputs": [
        {
          "output_type": "stream",
          "name": "stdout",
          "text": [
            "Requirement already satisfied: chardet in /usr/local/lib/python3.10/dist-packages (5.2.0)\n",
            "Requirement already satisfied: beautifulsoup4 in /usr/local/lib/python3.10/dist-packages (4.11.2)\n",
            "Requirement already satisfied: scikit-learn in /usr/local/lib/python3.10/dist-packages (1.2.2)\n",
            "Requirement already satisfied: soupsieve>1.2 in /usr/local/lib/python3.10/dist-packages (from beautifulsoup4) (2.5)\n",
            "Requirement already satisfied: numpy>=1.17.3 in /usr/local/lib/python3.10/dist-packages (from scikit-learn) (1.23.5)\n",
            "Requirement already satisfied: scipy>=1.3.2 in /usr/local/lib/python3.10/dist-packages (from scikit-learn) (1.11.3)\n",
            "Requirement already satisfied: joblib>=1.1.1 in /usr/local/lib/python3.10/dist-packages (from scikit-learn) (1.3.2)\n",
            "Requirement already satisfied: threadpoolctl>=2.0.0 in /usr/local/lib/python3.10/dist-packages (from scikit-learn) (3.2.0)\n"
          ]
        }
      ]
    },
    {
      "cell_type": "code",
      "execution_count": 2,
      "id": "c9db1c31",
      "metadata": {
        "execution": {
          "iopub.execute_input": "2022-10-14T14:58:08.879404Z",
          "iopub.status.busy": "2022-10-14T14:58:08.878981Z",
          "iopub.status.idle": "2022-10-14T14:58:10.125093Z",
          "shell.execute_reply": "2022-10-14T14:58:10.123776Z"
        },
        "papermill": {
          "duration": 1.259602,
          "end_time": "2022-10-14T14:58:10.127560",
          "exception": false,
          "start_time": "2022-10-14T14:58:08.867958",
          "status": "completed"
        },
        "tags": [],
        "id": "c9db1c31"
      },
      "outputs": [],
      "source": [
        "from pathlib import Path\n",
        "from chardet import detect\n",
        "\n",
        "import numpy as np\n",
        "import pandas as pd\n",
        "import matplotlib.pyplot as plt\n",
        "%matplotlib inline\n",
        "\n",
        "from collections import Counter\n",
        "from sklearn import (\n",
        "    feature_extraction,\n",
        "    tree,\n",
        "    linear_model,\n",
        "    naive_bayes,\n",
        "    metrics,\n",
        "    svm,\n",
        ")\n",
        "from sklearn.feature_extraction import text\n",
        "from sklearn.model_selection import train_test_split, cross_val_score\n",
        "from sklearn.metrics import f1_score"
      ]
    },
    {
      "cell_type": "code",
      "source": [
        "import random\n",
        "\n",
        "random.seed(42)"
      ],
      "metadata": {
        "id": "dbUusYQRWorP"
      },
      "id": "dbUusYQRWorP",
      "execution_count": 37,
      "outputs": []
    },
    {
      "cell_type": "markdown",
      "id": "182393ad",
      "metadata": {
        "papermill": {
          "duration": 0.010186,
          "end_time": "2022-10-14T14:58:10.147985",
          "exception": false,
          "start_time": "2022-10-14T14:58:10.137799",
          "status": "completed"
        },
        "tags": [],
        "id": "182393ad"
      },
      "source": [
        "# Data"
      ]
    },
    {
      "cell_type": "code",
      "source": [
        "!wget -qO- https://spamassassin.apache.org/old/publiccorpus/20030228_spam.tar.bz2 | tar -xjf -\n",
        "!wget -qO- https://spamassassin.apache.org/old/publiccorpus/20030228_easy_ham.tar.bz2 | tar -xjf -\n",
        "\n",
        "!cat spam/00001.7848dde101aa985090474a91ec93fcf0 | tail\n",
        "!cat easy_ham/00001.7c53336b37003a9286aba55d2945844c | tail"
      ],
      "metadata": {
        "colab": {
          "base_uri": "https://localhost:8080/"
        },
        "id": "q3RS9uJ7B91o",
        "outputId": "ef1816df-39a2-4bc8-c108-5263cae0d47d"
      },
      "id": "q3RS9uJ7B91o",
      "execution_count": 3,
      "outputs": [
        {
          "output_type": "stream",
          "name": "stdout",
          "text": [
            "REMOVE. If you \n",
            "      reside in any state which prohibits e-mail solicitations for insuran=\n",
            "ce, \n",
            "      please disregard this \n",
            "      email.<BR></FONT><BR><BR><BR><BR><BR><BR><BR><BR><BR><BR><BR><BR><BR=\n",
            "><BR><BR><BR></FONT></P></CENTER></CENTER></TR></TBODY></TABLE></CENTER></=\n",
            "CENTER></CENTER></CENTER></CENTER></BODY></HTML>\n",
            "\n",
            "\n",
            "\n",
            "ps: this is still using the version of the code form a day ago, I haven't\n",
            "been able to reach the cvs repository today (local routing issue I think).\n",
            "\n",
            "\n",
            "\n",
            "_______________________________________________\n",
            "Exmh-workers mailing list\n",
            "Exmh-workers@redhat.com\n",
            "https://listman.redhat.com/mailman/listinfo/exmh-workers\n",
            "\n"
          ]
        }
      ]
    },
    {
      "cell_type": "code",
      "source": [
        "def file_bodies(file_path):\n",
        "    result = []\n",
        "    path_list = Path(file_path).glob('**/00*')\n",
        "    for path in path_list:\n",
        "        with open(str(path), 'rb') as enc_file:\n",
        "            char_det = detect(enc_file.read())['encoding']\n",
        "            enc_file.close()\n",
        "            with open(str(path), 'r', encoding=char_det) as spam_file:\n",
        "                file_body = None\n",
        "                try:\n",
        "                    file_body = spam_file.read()\n",
        "                    result.append(file_body)\n",
        "                except UnicodeDecodeError as err:\n",
        "                    pass\n",
        "                spam_file.close()\n",
        "    return result"
      ],
      "metadata": {
        "id": "hikcdRkHBHqP"
      },
      "id": "hikcdRkHBHqP",
      "execution_count": 4,
      "outputs": []
    },
    {
      "cell_type": "code",
      "source": [
        "import re\n",
        "from bs4 import BeautifulSoup\n",
        "\n",
        "def file_bodies_cleaned(file_bodies: list):\n",
        "    result = []\n",
        "    for file_body in file_bodies:\n",
        "        file_body_wo_header = re.sub(r'.*\\:\\s.*|\\w+\\s.*@', ' ', file_body)\n",
        "        soup = BeautifulSoup(file_body_wo_header)\n",
        "        result.append(soup.get_text())\n",
        "    return result"
      ],
      "metadata": {
        "id": "RXdBdvj_JHM3"
      },
      "id": "RXdBdvj_JHM3",
      "execution_count": 30,
      "outputs": []
    },
    {
      "cell_type": "markdown",
      "id": "2f490592",
      "metadata": {
        "papermill": {
          "duration": 0.011149,
          "end_time": "2022-10-14T14:58:10.240937",
          "exception": false,
          "start_time": "2022-10-14T14:58:10.229788",
          "status": "completed"
        },
        "tags": [],
        "id": "2f490592"
      },
      "source": [
        "# EDA"
      ]
    },
    {
      "cell_type": "code",
      "execution_count": 31,
      "id": "ace0ce8c",
      "metadata": {
        "execution": {
          "iopub.execute_input": "2022-10-14T14:58:10.264203Z",
          "iopub.status.busy": "2022-10-14T14:58:10.263829Z",
          "iopub.status.idle": "2022-10-14T14:58:10.277211Z",
          "shell.execute_reply": "2022-10-14T14:58:10.275753Z"
        },
        "papermill": {
          "duration": 0.027565,
          "end_time": "2022-10-14T14:58:10.279567",
          "exception": false,
          "start_time": "2022-10-14T14:58:10.252002",
          "status": "completed"
        },
        "tags": [],
        "id": "ace0ce8c"
      },
      "outputs": [],
      "source": [
        "spam_file_bodies_cleaned = file_bodies_cleaned(file_bodies('./spam/'))\n",
        "ham_file_bodies_cleaned = file_bodies_cleaned(file_bodies('./easy_ham/'))"
      ]
    },
    {
      "cell_type": "code",
      "execution_count": 32,
      "id": "0fbc13ca",
      "metadata": {
        "execution": {
          "iopub.execute_input": "2022-10-14T14:58:10.305462Z",
          "iopub.status.busy": "2022-10-14T14:58:10.304250Z",
          "iopub.status.idle": "2022-10-14T14:58:10.320645Z",
          "shell.execute_reply": "2022-10-14T14:58:10.319452Z"
        },
        "papermill": {
          "duration": 0.033045,
          "end_time": "2022-10-14T14:58:10.323131",
          "exception": false,
          "start_time": "2022-10-14T14:58:10.290086",
          "status": "completed"
        },
        "tags": [],
        "id": "0fbc13ca",
        "outputId": "5fcad3a2-3245-4cc0-deaa-a04d03de6719",
        "colab": {
          "base_uri": "https://localhost:8080/"
        }
      },
      "outputs": [
        {
          "output_type": "stream",
          "name": "stderr",
          "text": [
            "<ipython-input-32-e291f057f0e0>:13: FutureWarning: The frame.append method is deprecated and will be removed from pandas in a future version. Use pandas.concat instead.\n",
            "  df = df.append(spam_email_df)\n",
            "<ipython-input-32-e291f057f0e0>:14: FutureWarning: The frame.append method is deprecated and will be removed from pandas in a future version. Use pandas.concat instead.\n",
            "  df = df.append(ham_email_df)\n"
          ]
        }
      ],
      "source": [
        "rows = len(spam_file_bodies_cleaned) + len(ham_file_bodies_cleaned)\n",
        "cols = 0\n",
        "\n",
        "spam_email_df = pd.DataFrame()\n",
        "spam_email_df['text'] = spam_file_bodies_cleaned\n",
        "spam_email_df['label'] = 'spam'\n",
        "\n",
        "ham_email_df = pd.DataFrame()\n",
        "ham_email_df['text'] = ham_file_bodies_cleaned\n",
        "ham_email_df['label'] = 'ham'\n",
        "\n",
        "df = pd.DataFrame()\n",
        "df = df.append(spam_email_df)\n",
        "df = df.append(ham_email_df)"
      ]
    },
    {
      "cell_type": "code",
      "execution_count": 33,
      "id": "a2aa04c5",
      "metadata": {
        "execution": {
          "iopub.execute_input": "2022-10-14T14:58:10.351361Z",
          "iopub.status.busy": "2022-10-14T14:58:10.349144Z",
          "iopub.status.idle": "2022-10-14T14:58:10.362533Z",
          "shell.execute_reply": "2022-10-14T14:58:10.361515Z"
        },
        "papermill": {
          "duration": 0.029614,
          "end_time": "2022-10-14T14:58:10.364998",
          "exception": false,
          "start_time": "2022-10-14T14:58:10.335384",
          "status": "completed"
        },
        "tags": [],
        "id": "a2aa04c5",
        "outputId": "23fdfb6f-6ba7-4a76-9cf9-f7467320bdac",
        "colab": {
          "base_uri": "https://localhost:8080/",
          "height": 221
        }
      },
      "outputs": [
        {
          "output_type": "execute_result",
          "data": {
            "text/plain": [
              "                                                  text label\n",
              "994  redhat.com  Tue Sep 10 11:22:40  spamassassin....   ham\n",
              "995  xent.com  Mon Sep  9 19:28:13  xent.com>\\n \\n ...   ham\n",
              "996  xent.com  Mon Sep 23 22:47:41  xent.com>\\n \\n ...   ham\n",
              "997  svanstrom.com  Wed Aug 28 11:02:33  svanstrom....   ham\n",
              "998  xent.com  Thu Sep 26 11:04:57  xent.com>\\n \\n ...   ham"
            ],
            "text/html": [
              "\n",
              "  <div id=\"df-5b599cdf-45fb-47f7-a326-822f88599665\" class=\"colab-df-container\">\n",
              "    <div>\n",
              "<style scoped>\n",
              "    .dataframe tbody tr th:only-of-type {\n",
              "        vertical-align: middle;\n",
              "    }\n",
              "\n",
              "    .dataframe tbody tr th {\n",
              "        vertical-align: top;\n",
              "    }\n",
              "\n",
              "    .dataframe thead th {\n",
              "        text-align: right;\n",
              "    }\n",
              "</style>\n",
              "<table border=\"1\" class=\"dataframe\">\n",
              "  <thead>\n",
              "    <tr style=\"text-align: right;\">\n",
              "      <th></th>\n",
              "      <th>text</th>\n",
              "      <th>label</th>\n",
              "    </tr>\n",
              "  </thead>\n",
              "  <tbody>\n",
              "    <tr>\n",
              "      <th>994</th>\n",
              "      <td>redhat.com  Tue Sep 10 11:22:40  spamassassin....</td>\n",
              "      <td>ham</td>\n",
              "    </tr>\n",
              "    <tr>\n",
              "      <th>995</th>\n",
              "      <td>xent.com  Mon Sep  9 19:28:13  xent.com&gt;\\n \\n ...</td>\n",
              "      <td>ham</td>\n",
              "    </tr>\n",
              "    <tr>\n",
              "      <th>996</th>\n",
              "      <td>xent.com  Mon Sep 23 22:47:41  xent.com&gt;\\n \\n ...</td>\n",
              "      <td>ham</td>\n",
              "    </tr>\n",
              "    <tr>\n",
              "      <th>997</th>\n",
              "      <td>svanstrom.com  Wed Aug 28 11:02:33  svanstrom....</td>\n",
              "      <td>ham</td>\n",
              "    </tr>\n",
              "    <tr>\n",
              "      <th>998</th>\n",
              "      <td>xent.com  Thu Sep 26 11:04:57  xent.com&gt;\\n \\n ...</td>\n",
              "      <td>ham</td>\n",
              "    </tr>\n",
              "  </tbody>\n",
              "</table>\n",
              "</div>\n",
              "    <div class=\"colab-df-buttons\">\n",
              "\n",
              "  <div class=\"colab-df-container\">\n",
              "    <button class=\"colab-df-convert\" onclick=\"convertToInteractive('df-5b599cdf-45fb-47f7-a326-822f88599665')\"\n",
              "            title=\"Convert this dataframe to an interactive table.\"\n",
              "            style=\"display:none;\">\n",
              "\n",
              "  <svg xmlns=\"http://www.w3.org/2000/svg\" height=\"24px\" viewBox=\"0 -960 960 960\">\n",
              "    <path d=\"M120-120v-720h720v720H120Zm60-500h600v-160H180v160Zm220 220h160v-160H400v160Zm0 220h160v-160H400v160ZM180-400h160v-160H180v160Zm440 0h160v-160H620v160ZM180-180h160v-160H180v160Zm440 0h160v-160H620v160Z\"/>\n",
              "  </svg>\n",
              "    </button>\n",
              "\n",
              "  <style>\n",
              "    .colab-df-container {\n",
              "      display:flex;\n",
              "      gap: 12px;\n",
              "    }\n",
              "\n",
              "    .colab-df-convert {\n",
              "      background-color: #E8F0FE;\n",
              "      border: none;\n",
              "      border-radius: 50%;\n",
              "      cursor: pointer;\n",
              "      display: none;\n",
              "      fill: #1967D2;\n",
              "      height: 32px;\n",
              "      padding: 0 0 0 0;\n",
              "      width: 32px;\n",
              "    }\n",
              "\n",
              "    .colab-df-convert:hover {\n",
              "      background-color: #E2EBFA;\n",
              "      box-shadow: 0px 1px 2px rgba(60, 64, 67, 0.3), 0px 1px 3px 1px rgba(60, 64, 67, 0.15);\n",
              "      fill: #174EA6;\n",
              "    }\n",
              "\n",
              "    .colab-df-buttons div {\n",
              "      margin-bottom: 4px;\n",
              "    }\n",
              "\n",
              "    [theme=dark] .colab-df-convert {\n",
              "      background-color: #3B4455;\n",
              "      fill: #D2E3FC;\n",
              "    }\n",
              "\n",
              "    [theme=dark] .colab-df-convert:hover {\n",
              "      background-color: #434B5C;\n",
              "      box-shadow: 0px 1px 3px 1px rgba(0, 0, 0, 0.15);\n",
              "      filter: drop-shadow(0px 1px 2px rgba(0, 0, 0, 0.3));\n",
              "      fill: #FFFFFF;\n",
              "    }\n",
              "  </style>\n",
              "\n",
              "    <script>\n",
              "      const buttonEl =\n",
              "        document.querySelector('#df-5b599cdf-45fb-47f7-a326-822f88599665 button.colab-df-convert');\n",
              "      buttonEl.style.display =\n",
              "        google.colab.kernel.accessAllowed ? 'block' : 'none';\n",
              "\n",
              "      async function convertToInteractive(key) {\n",
              "        const element = document.querySelector('#df-5b599cdf-45fb-47f7-a326-822f88599665');\n",
              "        const dataTable =\n",
              "          await google.colab.kernel.invokeFunction('convertToInteractive',\n",
              "                                                    [key], {});\n",
              "        if (!dataTable) return;\n",
              "\n",
              "        const docLinkHtml = 'Like what you see? Visit the ' +\n",
              "          '<a target=\"_blank\" href=https://colab.research.google.com/notebooks/data_table.ipynb>data table notebook</a>'\n",
              "          + ' to learn more about interactive tables.';\n",
              "        element.innerHTML = '';\n",
              "        dataTable['output_type'] = 'display_data';\n",
              "        await google.colab.output.renderOutput(dataTable, element);\n",
              "        const docLink = document.createElement('div');\n",
              "        docLink.innerHTML = docLinkHtml;\n",
              "        element.appendChild(docLink);\n",
              "      }\n",
              "    </script>\n",
              "  </div>\n",
              "\n",
              "\n",
              "<div id=\"df-b9ff928d-9a18-4879-9737-c36bc05df95c\">\n",
              "  <button class=\"colab-df-quickchart\" onclick=\"quickchart('df-b9ff928d-9a18-4879-9737-c36bc05df95c')\"\n",
              "            title=\"Suggest charts.\"\n",
              "            style=\"display:none;\">\n",
              "\n",
              "<svg xmlns=\"http://www.w3.org/2000/svg\" height=\"24px\"viewBox=\"0 0 24 24\"\n",
              "     width=\"24px\">\n",
              "    <g>\n",
              "        <path d=\"M19 3H5c-1.1 0-2 .9-2 2v14c0 1.1.9 2 2 2h14c1.1 0 2-.9 2-2V5c0-1.1-.9-2-2-2zM9 17H7v-7h2v7zm4 0h-2V7h2v10zm4 0h-2v-4h2v4z\"/>\n",
              "    </g>\n",
              "</svg>\n",
              "  </button>\n",
              "\n",
              "<style>\n",
              "  .colab-df-quickchart {\n",
              "      --bg-color: #E8F0FE;\n",
              "      --fill-color: #1967D2;\n",
              "      --hover-bg-color: #E2EBFA;\n",
              "      --hover-fill-color: #174EA6;\n",
              "      --disabled-fill-color: #AAA;\n",
              "      --disabled-bg-color: #DDD;\n",
              "  }\n",
              "\n",
              "  [theme=dark] .colab-df-quickchart {\n",
              "      --bg-color: #3B4455;\n",
              "      --fill-color: #D2E3FC;\n",
              "      --hover-bg-color: #434B5C;\n",
              "      --hover-fill-color: #FFFFFF;\n",
              "      --disabled-bg-color: #3B4455;\n",
              "      --disabled-fill-color: #666;\n",
              "  }\n",
              "\n",
              "  .colab-df-quickchart {\n",
              "    background-color: var(--bg-color);\n",
              "    border: none;\n",
              "    border-radius: 50%;\n",
              "    cursor: pointer;\n",
              "    display: none;\n",
              "    fill: var(--fill-color);\n",
              "    height: 32px;\n",
              "    padding: 0;\n",
              "    width: 32px;\n",
              "  }\n",
              "\n",
              "  .colab-df-quickchart:hover {\n",
              "    background-color: var(--hover-bg-color);\n",
              "    box-shadow: 0 1px 2px rgba(60, 64, 67, 0.3), 0 1px 3px 1px rgba(60, 64, 67, 0.15);\n",
              "    fill: var(--button-hover-fill-color);\n",
              "  }\n",
              "\n",
              "  .colab-df-quickchart-complete:disabled,\n",
              "  .colab-df-quickchart-complete:disabled:hover {\n",
              "    background-color: var(--disabled-bg-color);\n",
              "    fill: var(--disabled-fill-color);\n",
              "    box-shadow: none;\n",
              "  }\n",
              "\n",
              "  .colab-df-spinner {\n",
              "    border: 2px solid var(--fill-color);\n",
              "    border-color: transparent;\n",
              "    border-bottom-color: var(--fill-color);\n",
              "    animation:\n",
              "      spin 1s steps(1) infinite;\n",
              "  }\n",
              "\n",
              "  @keyframes spin {\n",
              "    0% {\n",
              "      border-color: transparent;\n",
              "      border-bottom-color: var(--fill-color);\n",
              "      border-left-color: var(--fill-color);\n",
              "    }\n",
              "    20% {\n",
              "      border-color: transparent;\n",
              "      border-left-color: var(--fill-color);\n",
              "      border-top-color: var(--fill-color);\n",
              "    }\n",
              "    30% {\n",
              "      border-color: transparent;\n",
              "      border-left-color: var(--fill-color);\n",
              "      border-top-color: var(--fill-color);\n",
              "      border-right-color: var(--fill-color);\n",
              "    }\n",
              "    40% {\n",
              "      border-color: transparent;\n",
              "      border-right-color: var(--fill-color);\n",
              "      border-top-color: var(--fill-color);\n",
              "    }\n",
              "    60% {\n",
              "      border-color: transparent;\n",
              "      border-right-color: var(--fill-color);\n",
              "    }\n",
              "    80% {\n",
              "      border-color: transparent;\n",
              "      border-right-color: var(--fill-color);\n",
              "      border-bottom-color: var(--fill-color);\n",
              "    }\n",
              "    90% {\n",
              "      border-color: transparent;\n",
              "      border-bottom-color: var(--fill-color);\n",
              "    }\n",
              "  }\n",
              "</style>\n",
              "\n",
              "  <script>\n",
              "    async function quickchart(key) {\n",
              "      const quickchartButtonEl =\n",
              "        document.querySelector('#' + key + ' button');\n",
              "      quickchartButtonEl.disabled = true;  // To prevent multiple clicks.\n",
              "      quickchartButtonEl.classList.add('colab-df-spinner');\n",
              "      try {\n",
              "        const charts = await google.colab.kernel.invokeFunction(\n",
              "            'suggestCharts', [key], {});\n",
              "      } catch (error) {\n",
              "        console.error('Error during call to suggestCharts:', error);\n",
              "      }\n",
              "      quickchartButtonEl.classList.remove('colab-df-spinner');\n",
              "      quickchartButtonEl.classList.add('colab-df-quickchart-complete');\n",
              "    }\n",
              "    (() => {\n",
              "      let quickchartButtonEl =\n",
              "        document.querySelector('#df-b9ff928d-9a18-4879-9737-c36bc05df95c button');\n",
              "      quickchartButtonEl.style.display =\n",
              "        google.colab.kernel.accessAllowed ? 'block' : 'none';\n",
              "    })();\n",
              "  </script>\n",
              "</div>\n",
              "    </div>\n",
              "  </div>\n"
            ]
          },
          "metadata": {},
          "execution_count": 33
        }
      ],
      "source": [
        "df.tail()\n"
      ]
    },
    {
      "cell_type": "code",
      "execution_count": 34,
      "id": "ac280a53",
      "metadata": {
        "execution": {
          "iopub.execute_input": "2022-10-14T14:58:10.391844Z",
          "iopub.status.busy": "2022-10-14T14:58:10.391503Z",
          "iopub.status.idle": "2022-10-14T14:58:10.409134Z",
          "shell.execute_reply": "2022-10-14T14:58:10.407779Z"
        },
        "papermill": {
          "duration": 0.03241,
          "end_time": "2022-10-14T14:58:10.411471",
          "exception": false,
          "start_time": "2022-10-14T14:58:10.379061",
          "status": "completed"
        },
        "tags": [],
        "id": "ac280a53",
        "outputId": "cb7ebdcc-9883-4754-98c4-ca985acc00f0",
        "colab": {
          "base_uri": "https://localhost:8080/",
          "height": 187
        }
      },
      "outputs": [
        {
          "output_type": "execute_result",
          "data": {
            "text/plain": [
              "                                                     text label\n",
              "count                                                1493  1493\n",
              "unique                                               1493     2\n",
              "top     insiq.us  Thu Aug 29 11:09:03  insiq.us>\\n \\n ...   ham\n",
              "freq                                                    1   999"
            ],
            "text/html": [
              "\n",
              "  <div id=\"df-cd144c10-6347-4715-a5b0-81bf34867892\" class=\"colab-df-container\">\n",
              "    <div>\n",
              "<style scoped>\n",
              "    .dataframe tbody tr th:only-of-type {\n",
              "        vertical-align: middle;\n",
              "    }\n",
              "\n",
              "    .dataframe tbody tr th {\n",
              "        vertical-align: top;\n",
              "    }\n",
              "\n",
              "    .dataframe thead th {\n",
              "        text-align: right;\n",
              "    }\n",
              "</style>\n",
              "<table border=\"1\" class=\"dataframe\">\n",
              "  <thead>\n",
              "    <tr style=\"text-align: right;\">\n",
              "      <th></th>\n",
              "      <th>text</th>\n",
              "      <th>label</th>\n",
              "    </tr>\n",
              "  </thead>\n",
              "  <tbody>\n",
              "    <tr>\n",
              "      <th>count</th>\n",
              "      <td>1493</td>\n",
              "      <td>1493</td>\n",
              "    </tr>\n",
              "    <tr>\n",
              "      <th>unique</th>\n",
              "      <td>1493</td>\n",
              "      <td>2</td>\n",
              "    </tr>\n",
              "    <tr>\n",
              "      <th>top</th>\n",
              "      <td>insiq.us  Thu Aug 29 11:09:03  insiq.us&gt;\\n \\n ...</td>\n",
              "      <td>ham</td>\n",
              "    </tr>\n",
              "    <tr>\n",
              "      <th>freq</th>\n",
              "      <td>1</td>\n",
              "      <td>999</td>\n",
              "    </tr>\n",
              "  </tbody>\n",
              "</table>\n",
              "</div>\n",
              "    <div class=\"colab-df-buttons\">\n",
              "\n",
              "  <div class=\"colab-df-container\">\n",
              "    <button class=\"colab-df-convert\" onclick=\"convertToInteractive('df-cd144c10-6347-4715-a5b0-81bf34867892')\"\n",
              "            title=\"Convert this dataframe to an interactive table.\"\n",
              "            style=\"display:none;\">\n",
              "\n",
              "  <svg xmlns=\"http://www.w3.org/2000/svg\" height=\"24px\" viewBox=\"0 -960 960 960\">\n",
              "    <path d=\"M120-120v-720h720v720H120Zm60-500h600v-160H180v160Zm220 220h160v-160H400v160Zm0 220h160v-160H400v160ZM180-400h160v-160H180v160Zm440 0h160v-160H620v160ZM180-180h160v-160H180v160Zm440 0h160v-160H620v160Z\"/>\n",
              "  </svg>\n",
              "    </button>\n",
              "\n",
              "  <style>\n",
              "    .colab-df-container {\n",
              "      display:flex;\n",
              "      gap: 12px;\n",
              "    }\n",
              "\n",
              "    .colab-df-convert {\n",
              "      background-color: #E8F0FE;\n",
              "      border: none;\n",
              "      border-radius: 50%;\n",
              "      cursor: pointer;\n",
              "      display: none;\n",
              "      fill: #1967D2;\n",
              "      height: 32px;\n",
              "      padding: 0 0 0 0;\n",
              "      width: 32px;\n",
              "    }\n",
              "\n",
              "    .colab-df-convert:hover {\n",
              "      background-color: #E2EBFA;\n",
              "      box-shadow: 0px 1px 2px rgba(60, 64, 67, 0.3), 0px 1px 3px 1px rgba(60, 64, 67, 0.15);\n",
              "      fill: #174EA6;\n",
              "    }\n",
              "\n",
              "    .colab-df-buttons div {\n",
              "      margin-bottom: 4px;\n",
              "    }\n",
              "\n",
              "    [theme=dark] .colab-df-convert {\n",
              "      background-color: #3B4455;\n",
              "      fill: #D2E3FC;\n",
              "    }\n",
              "\n",
              "    [theme=dark] .colab-df-convert:hover {\n",
              "      background-color: #434B5C;\n",
              "      box-shadow: 0px 1px 3px 1px rgba(0, 0, 0, 0.15);\n",
              "      filter: drop-shadow(0px 1px 2px rgba(0, 0, 0, 0.3));\n",
              "      fill: #FFFFFF;\n",
              "    }\n",
              "  </style>\n",
              "\n",
              "    <script>\n",
              "      const buttonEl =\n",
              "        document.querySelector('#df-cd144c10-6347-4715-a5b0-81bf34867892 button.colab-df-convert');\n",
              "      buttonEl.style.display =\n",
              "        google.colab.kernel.accessAllowed ? 'block' : 'none';\n",
              "\n",
              "      async function convertToInteractive(key) {\n",
              "        const element = document.querySelector('#df-cd144c10-6347-4715-a5b0-81bf34867892');\n",
              "        const dataTable =\n",
              "          await google.colab.kernel.invokeFunction('convertToInteractive',\n",
              "                                                    [key], {});\n",
              "        if (!dataTable) return;\n",
              "\n",
              "        const docLinkHtml = 'Like what you see? Visit the ' +\n",
              "          '<a target=\"_blank\" href=https://colab.research.google.com/notebooks/data_table.ipynb>data table notebook</a>'\n",
              "          + ' to learn more about interactive tables.';\n",
              "        element.innerHTML = '';\n",
              "        dataTable['output_type'] = 'display_data';\n",
              "        await google.colab.output.renderOutput(dataTable, element);\n",
              "        const docLink = document.createElement('div');\n",
              "        docLink.innerHTML = docLinkHtml;\n",
              "        element.appendChild(docLink);\n",
              "      }\n",
              "    </script>\n",
              "  </div>\n",
              "\n",
              "\n",
              "<div id=\"df-3cd9fb0b-fb4d-488b-b702-986cd0311a28\">\n",
              "  <button class=\"colab-df-quickchart\" onclick=\"quickchart('df-3cd9fb0b-fb4d-488b-b702-986cd0311a28')\"\n",
              "            title=\"Suggest charts.\"\n",
              "            style=\"display:none;\">\n",
              "\n",
              "<svg xmlns=\"http://www.w3.org/2000/svg\" height=\"24px\"viewBox=\"0 0 24 24\"\n",
              "     width=\"24px\">\n",
              "    <g>\n",
              "        <path d=\"M19 3H5c-1.1 0-2 .9-2 2v14c0 1.1.9 2 2 2h14c1.1 0 2-.9 2-2V5c0-1.1-.9-2-2-2zM9 17H7v-7h2v7zm4 0h-2V7h2v10zm4 0h-2v-4h2v4z\"/>\n",
              "    </g>\n",
              "</svg>\n",
              "  </button>\n",
              "\n",
              "<style>\n",
              "  .colab-df-quickchart {\n",
              "      --bg-color: #E8F0FE;\n",
              "      --fill-color: #1967D2;\n",
              "      --hover-bg-color: #E2EBFA;\n",
              "      --hover-fill-color: #174EA6;\n",
              "      --disabled-fill-color: #AAA;\n",
              "      --disabled-bg-color: #DDD;\n",
              "  }\n",
              "\n",
              "  [theme=dark] .colab-df-quickchart {\n",
              "      --bg-color: #3B4455;\n",
              "      --fill-color: #D2E3FC;\n",
              "      --hover-bg-color: #434B5C;\n",
              "      --hover-fill-color: #FFFFFF;\n",
              "      --disabled-bg-color: #3B4455;\n",
              "      --disabled-fill-color: #666;\n",
              "  }\n",
              "\n",
              "  .colab-df-quickchart {\n",
              "    background-color: var(--bg-color);\n",
              "    border: none;\n",
              "    border-radius: 50%;\n",
              "    cursor: pointer;\n",
              "    display: none;\n",
              "    fill: var(--fill-color);\n",
              "    height: 32px;\n",
              "    padding: 0;\n",
              "    width: 32px;\n",
              "  }\n",
              "\n",
              "  .colab-df-quickchart:hover {\n",
              "    background-color: var(--hover-bg-color);\n",
              "    box-shadow: 0 1px 2px rgba(60, 64, 67, 0.3), 0 1px 3px 1px rgba(60, 64, 67, 0.15);\n",
              "    fill: var(--button-hover-fill-color);\n",
              "  }\n",
              "\n",
              "  .colab-df-quickchart-complete:disabled,\n",
              "  .colab-df-quickchart-complete:disabled:hover {\n",
              "    background-color: var(--disabled-bg-color);\n",
              "    fill: var(--disabled-fill-color);\n",
              "    box-shadow: none;\n",
              "  }\n",
              "\n",
              "  .colab-df-spinner {\n",
              "    border: 2px solid var(--fill-color);\n",
              "    border-color: transparent;\n",
              "    border-bottom-color: var(--fill-color);\n",
              "    animation:\n",
              "      spin 1s steps(1) infinite;\n",
              "  }\n",
              "\n",
              "  @keyframes spin {\n",
              "    0% {\n",
              "      border-color: transparent;\n",
              "      border-bottom-color: var(--fill-color);\n",
              "      border-left-color: var(--fill-color);\n",
              "    }\n",
              "    20% {\n",
              "      border-color: transparent;\n",
              "      border-left-color: var(--fill-color);\n",
              "      border-top-color: var(--fill-color);\n",
              "    }\n",
              "    30% {\n",
              "      border-color: transparent;\n",
              "      border-left-color: var(--fill-color);\n",
              "      border-top-color: var(--fill-color);\n",
              "      border-right-color: var(--fill-color);\n",
              "    }\n",
              "    40% {\n",
              "      border-color: transparent;\n",
              "      border-right-color: var(--fill-color);\n",
              "      border-top-color: var(--fill-color);\n",
              "    }\n",
              "    60% {\n",
              "      border-color: transparent;\n",
              "      border-right-color: var(--fill-color);\n",
              "    }\n",
              "    80% {\n",
              "      border-color: transparent;\n",
              "      border-right-color: var(--fill-color);\n",
              "      border-bottom-color: var(--fill-color);\n",
              "    }\n",
              "    90% {\n",
              "      border-color: transparent;\n",
              "      border-bottom-color: var(--fill-color);\n",
              "    }\n",
              "  }\n",
              "</style>\n",
              "\n",
              "  <script>\n",
              "    async function quickchart(key) {\n",
              "      const quickchartButtonEl =\n",
              "        document.querySelector('#' + key + ' button');\n",
              "      quickchartButtonEl.disabled = true;  // To prevent multiple clicks.\n",
              "      quickchartButtonEl.classList.add('colab-df-spinner');\n",
              "      try {\n",
              "        const charts = await google.colab.kernel.invokeFunction(\n",
              "            'suggestCharts', [key], {});\n",
              "      } catch (error) {\n",
              "        console.error('Error during call to suggestCharts:', error);\n",
              "      }\n",
              "      quickchartButtonEl.classList.remove('colab-df-spinner');\n",
              "      quickchartButtonEl.classList.add('colab-df-quickchart-complete');\n",
              "    }\n",
              "    (() => {\n",
              "      let quickchartButtonEl =\n",
              "        document.querySelector('#df-3cd9fb0b-fb4d-488b-b702-986cd0311a28 button');\n",
              "      quickchartButtonEl.style.display =\n",
              "        google.colab.kernel.accessAllowed ? 'block' : 'none';\n",
              "    })();\n",
              "  </script>\n",
              "</div>\n",
              "    </div>\n",
              "  </div>\n"
            ]
          },
          "metadata": {},
          "execution_count": 34
        }
      ],
      "source": [
        "df.describe()"
      ]
    },
    {
      "cell_type": "code",
      "execution_count": 35,
      "id": "f8073867",
      "metadata": {
        "execution": {
          "iopub.execute_input": "2022-10-14T14:58:10.434411Z",
          "iopub.status.busy": "2022-10-14T14:58:10.434050Z",
          "iopub.status.idle": "2022-10-14T14:58:10.448179Z",
          "shell.execute_reply": "2022-10-14T14:58:10.446601Z"
        },
        "papermill": {
          "duration": 0.02875,
          "end_time": "2022-10-14T14:58:10.450952",
          "exception": false,
          "start_time": "2022-10-14T14:58:10.422202",
          "status": "completed"
        },
        "tags": [],
        "id": "f8073867",
        "outputId": "1ae39783-8301-4fbe-916b-0d671145e5e3",
        "colab": {
          "base_uri": "https://localhost:8080/",
          "height": 221
        }
      },
      "outputs": [
        {
          "output_type": "execute_result",
          "data": {
            "text/plain": [
              "                                                text label  length\n",
              "0  insiq.us  Thu Aug 29 11:09:03  insiq.us>\\n \\n ...  spam    3498\n",
              "1  bounce.tilw.net  Thu Sep 19 11:14:52  bounce.t...  spam    3002\n",
              "2  Flashmail.com  Mon Aug 26 15:49:58  Flashmail....  spam     743\n",
              "3  gmx.net  Fri Sep  6 15:40:52  gmx.net>\\n \\n \\n...  spam    2777\n",
              "4  GetResponse.com  Mon Aug 26 15:14:07  GetRespo...  spam    3584"
            ],
            "text/html": [
              "\n",
              "  <div id=\"df-e37b0a5b-4a9d-48e5-a88f-be0d308242f1\" class=\"colab-df-container\">\n",
              "    <div>\n",
              "<style scoped>\n",
              "    .dataframe tbody tr th:only-of-type {\n",
              "        vertical-align: middle;\n",
              "    }\n",
              "\n",
              "    .dataframe tbody tr th {\n",
              "        vertical-align: top;\n",
              "    }\n",
              "\n",
              "    .dataframe thead th {\n",
              "        text-align: right;\n",
              "    }\n",
              "</style>\n",
              "<table border=\"1\" class=\"dataframe\">\n",
              "  <thead>\n",
              "    <tr style=\"text-align: right;\">\n",
              "      <th></th>\n",
              "      <th>text</th>\n",
              "      <th>label</th>\n",
              "      <th>length</th>\n",
              "    </tr>\n",
              "  </thead>\n",
              "  <tbody>\n",
              "    <tr>\n",
              "      <th>0</th>\n",
              "      <td>insiq.us  Thu Aug 29 11:09:03  insiq.us&gt;\\n \\n ...</td>\n",
              "      <td>spam</td>\n",
              "      <td>3498</td>\n",
              "    </tr>\n",
              "    <tr>\n",
              "      <th>1</th>\n",
              "      <td>bounce.tilw.net  Thu Sep 19 11:14:52  bounce.t...</td>\n",
              "      <td>spam</td>\n",
              "      <td>3002</td>\n",
              "    </tr>\n",
              "    <tr>\n",
              "      <th>2</th>\n",
              "      <td>Flashmail.com  Mon Aug 26 15:49:58  Flashmail....</td>\n",
              "      <td>spam</td>\n",
              "      <td>743</td>\n",
              "    </tr>\n",
              "    <tr>\n",
              "      <th>3</th>\n",
              "      <td>gmx.net  Fri Sep  6 15:40:52  gmx.net&gt;\\n \\n \\n...</td>\n",
              "      <td>spam</td>\n",
              "      <td>2777</td>\n",
              "    </tr>\n",
              "    <tr>\n",
              "      <th>4</th>\n",
              "      <td>GetResponse.com  Mon Aug 26 15:14:07  GetRespo...</td>\n",
              "      <td>spam</td>\n",
              "      <td>3584</td>\n",
              "    </tr>\n",
              "  </tbody>\n",
              "</table>\n",
              "</div>\n",
              "    <div class=\"colab-df-buttons\">\n",
              "\n",
              "  <div class=\"colab-df-container\">\n",
              "    <button class=\"colab-df-convert\" onclick=\"convertToInteractive('df-e37b0a5b-4a9d-48e5-a88f-be0d308242f1')\"\n",
              "            title=\"Convert this dataframe to an interactive table.\"\n",
              "            style=\"display:none;\">\n",
              "\n",
              "  <svg xmlns=\"http://www.w3.org/2000/svg\" height=\"24px\" viewBox=\"0 -960 960 960\">\n",
              "    <path d=\"M120-120v-720h720v720H120Zm60-500h600v-160H180v160Zm220 220h160v-160H400v160Zm0 220h160v-160H400v160ZM180-400h160v-160H180v160Zm440 0h160v-160H620v160ZM180-180h160v-160H180v160Zm440 0h160v-160H620v160Z\"/>\n",
              "  </svg>\n",
              "    </button>\n",
              "\n",
              "  <style>\n",
              "    .colab-df-container {\n",
              "      display:flex;\n",
              "      gap: 12px;\n",
              "    }\n",
              "\n",
              "    .colab-df-convert {\n",
              "      background-color: #E8F0FE;\n",
              "      border: none;\n",
              "      border-radius: 50%;\n",
              "      cursor: pointer;\n",
              "      display: none;\n",
              "      fill: #1967D2;\n",
              "      height: 32px;\n",
              "      padding: 0 0 0 0;\n",
              "      width: 32px;\n",
              "    }\n",
              "\n",
              "    .colab-df-convert:hover {\n",
              "      background-color: #E2EBFA;\n",
              "      box-shadow: 0px 1px 2px rgba(60, 64, 67, 0.3), 0px 1px 3px 1px rgba(60, 64, 67, 0.15);\n",
              "      fill: #174EA6;\n",
              "    }\n",
              "\n",
              "    .colab-df-buttons div {\n",
              "      margin-bottom: 4px;\n",
              "    }\n",
              "\n",
              "    [theme=dark] .colab-df-convert {\n",
              "      background-color: #3B4455;\n",
              "      fill: #D2E3FC;\n",
              "    }\n",
              "\n",
              "    [theme=dark] .colab-df-convert:hover {\n",
              "      background-color: #434B5C;\n",
              "      box-shadow: 0px 1px 3px 1px rgba(0, 0, 0, 0.15);\n",
              "      filter: drop-shadow(0px 1px 2px rgba(0, 0, 0, 0.3));\n",
              "      fill: #FFFFFF;\n",
              "    }\n",
              "  </style>\n",
              "\n",
              "    <script>\n",
              "      const buttonEl =\n",
              "        document.querySelector('#df-e37b0a5b-4a9d-48e5-a88f-be0d308242f1 button.colab-df-convert');\n",
              "      buttonEl.style.display =\n",
              "        google.colab.kernel.accessAllowed ? 'block' : 'none';\n",
              "\n",
              "      async function convertToInteractive(key) {\n",
              "        const element = document.querySelector('#df-e37b0a5b-4a9d-48e5-a88f-be0d308242f1');\n",
              "        const dataTable =\n",
              "          await google.colab.kernel.invokeFunction('convertToInteractive',\n",
              "                                                    [key], {});\n",
              "        if (!dataTable) return;\n",
              "\n",
              "        const docLinkHtml = 'Like what you see? Visit the ' +\n",
              "          '<a target=\"_blank\" href=https://colab.research.google.com/notebooks/data_table.ipynb>data table notebook</a>'\n",
              "          + ' to learn more about interactive tables.';\n",
              "        element.innerHTML = '';\n",
              "        dataTable['output_type'] = 'display_data';\n",
              "        await google.colab.output.renderOutput(dataTable, element);\n",
              "        const docLink = document.createElement('div');\n",
              "        docLink.innerHTML = docLinkHtml;\n",
              "        element.appendChild(docLink);\n",
              "      }\n",
              "    </script>\n",
              "  </div>\n",
              "\n",
              "\n",
              "<div id=\"df-2548c9c5-c6f8-445f-91ea-1ae59e12629c\">\n",
              "  <button class=\"colab-df-quickchart\" onclick=\"quickchart('df-2548c9c5-c6f8-445f-91ea-1ae59e12629c')\"\n",
              "            title=\"Suggest charts.\"\n",
              "            style=\"display:none;\">\n",
              "\n",
              "<svg xmlns=\"http://www.w3.org/2000/svg\" height=\"24px\"viewBox=\"0 0 24 24\"\n",
              "     width=\"24px\">\n",
              "    <g>\n",
              "        <path d=\"M19 3H5c-1.1 0-2 .9-2 2v14c0 1.1.9 2 2 2h14c1.1 0 2-.9 2-2V5c0-1.1-.9-2-2-2zM9 17H7v-7h2v7zm4 0h-2V7h2v10zm4 0h-2v-4h2v4z\"/>\n",
              "    </g>\n",
              "</svg>\n",
              "  </button>\n",
              "\n",
              "<style>\n",
              "  .colab-df-quickchart {\n",
              "      --bg-color: #E8F0FE;\n",
              "      --fill-color: #1967D2;\n",
              "      --hover-bg-color: #E2EBFA;\n",
              "      --hover-fill-color: #174EA6;\n",
              "      --disabled-fill-color: #AAA;\n",
              "      --disabled-bg-color: #DDD;\n",
              "  }\n",
              "\n",
              "  [theme=dark] .colab-df-quickchart {\n",
              "      --bg-color: #3B4455;\n",
              "      --fill-color: #D2E3FC;\n",
              "      --hover-bg-color: #434B5C;\n",
              "      --hover-fill-color: #FFFFFF;\n",
              "      --disabled-bg-color: #3B4455;\n",
              "      --disabled-fill-color: #666;\n",
              "  }\n",
              "\n",
              "  .colab-df-quickchart {\n",
              "    background-color: var(--bg-color);\n",
              "    border: none;\n",
              "    border-radius: 50%;\n",
              "    cursor: pointer;\n",
              "    display: none;\n",
              "    fill: var(--fill-color);\n",
              "    height: 32px;\n",
              "    padding: 0;\n",
              "    width: 32px;\n",
              "  }\n",
              "\n",
              "  .colab-df-quickchart:hover {\n",
              "    background-color: var(--hover-bg-color);\n",
              "    box-shadow: 0 1px 2px rgba(60, 64, 67, 0.3), 0 1px 3px 1px rgba(60, 64, 67, 0.15);\n",
              "    fill: var(--button-hover-fill-color);\n",
              "  }\n",
              "\n",
              "  .colab-df-quickchart-complete:disabled,\n",
              "  .colab-df-quickchart-complete:disabled:hover {\n",
              "    background-color: var(--disabled-bg-color);\n",
              "    fill: var(--disabled-fill-color);\n",
              "    box-shadow: none;\n",
              "  }\n",
              "\n",
              "  .colab-df-spinner {\n",
              "    border: 2px solid var(--fill-color);\n",
              "    border-color: transparent;\n",
              "    border-bottom-color: var(--fill-color);\n",
              "    animation:\n",
              "      spin 1s steps(1) infinite;\n",
              "  }\n",
              "\n",
              "  @keyframes spin {\n",
              "    0% {\n",
              "      border-color: transparent;\n",
              "      border-bottom-color: var(--fill-color);\n",
              "      border-left-color: var(--fill-color);\n",
              "    }\n",
              "    20% {\n",
              "      border-color: transparent;\n",
              "      border-left-color: var(--fill-color);\n",
              "      border-top-color: var(--fill-color);\n",
              "    }\n",
              "    30% {\n",
              "      border-color: transparent;\n",
              "      border-left-color: var(--fill-color);\n",
              "      border-top-color: var(--fill-color);\n",
              "      border-right-color: var(--fill-color);\n",
              "    }\n",
              "    40% {\n",
              "      border-color: transparent;\n",
              "      border-right-color: var(--fill-color);\n",
              "      border-top-color: var(--fill-color);\n",
              "    }\n",
              "    60% {\n",
              "      border-color: transparent;\n",
              "      border-right-color: var(--fill-color);\n",
              "    }\n",
              "    80% {\n",
              "      border-color: transparent;\n",
              "      border-right-color: var(--fill-color);\n",
              "      border-bottom-color: var(--fill-color);\n",
              "    }\n",
              "    90% {\n",
              "      border-color: transparent;\n",
              "      border-bottom-color: var(--fill-color);\n",
              "    }\n",
              "  }\n",
              "</style>\n",
              "\n",
              "  <script>\n",
              "    async function quickchart(key) {\n",
              "      const quickchartButtonEl =\n",
              "        document.querySelector('#' + key + ' button');\n",
              "      quickchartButtonEl.disabled = true;  // To prevent multiple clicks.\n",
              "      quickchartButtonEl.classList.add('colab-df-spinner');\n",
              "      try {\n",
              "        const charts = await google.colab.kernel.invokeFunction(\n",
              "            'suggestCharts', [key], {});\n",
              "      } catch (error) {\n",
              "        console.error('Error during call to suggestCharts:', error);\n",
              "      }\n",
              "      quickchartButtonEl.classList.remove('colab-df-spinner');\n",
              "      quickchartButtonEl.classList.add('colab-df-quickchart-complete');\n",
              "    }\n",
              "    (() => {\n",
              "      let quickchartButtonEl =\n",
              "        document.querySelector('#df-2548c9c5-c6f8-445f-91ea-1ae59e12629c button');\n",
              "      quickchartButtonEl.style.display =\n",
              "        google.colab.kernel.accessAllowed ? 'block' : 'none';\n",
              "    })();\n",
              "  </script>\n",
              "</div>\n",
              "    </div>\n",
              "  </div>\n"
            ]
          },
          "metadata": {},
          "execution_count": 35
        }
      ],
      "source": [
        "df['length'] = df['text'].apply(len)\n",
        "df.head(5)"
      ]
    },
    {
      "cell_type": "markdown",
      "source": [
        "# Train / Test prep"
      ],
      "metadata": {
        "id": "v6SZL7L3Gz9i"
      },
      "id": "v6SZL7L3Gz9i"
    },
    {
      "cell_type": "code",
      "source": [
        "X_train, X_test, y_train, y_test = train_test_split(df['text'], df['label'], random_state=100)\n",
        "X_train.shape"
      ],
      "metadata": {
        "colab": {
          "base_uri": "https://localhost:8080/"
        },
        "id": "alOhyuoIGdHo",
        "outputId": "a306ada8-fd13-4ab4-c6c6-4ec877ed2b3e"
      },
      "id": "alOhyuoIGdHo",
      "execution_count": 11,
      "outputs": [
        {
          "output_type": "execute_result",
          "data": {
            "text/plain": [
              "(1119,)"
            ]
          },
          "metadata": {},
          "execution_count": 11
        }
      ]
    },
    {
      "cell_type": "code",
      "source": [
        "count_vect = text.CountVectorizer(stop_words=\"english\")\n",
        "count_vect.fit(X_train)\n",
        "\n",
        "X_train_count_vect_trans = count_vect.transform(X_train)\n",
        "X_test_count_vect_trans = count_vect.transform(X_test)"
      ],
      "metadata": {
        "id": "lNm4fhanKHL4"
      },
      "id": "lNm4fhanKHL4",
      "execution_count": 12,
      "outputs": []
    },
    {
      "cell_type": "code",
      "source": [
        "tfidf_vect = text.TfidfVectorizer(stop_words=\"english\")\n",
        "tfidf_vect.fit(X_train)\n",
        "\n",
        "X_train_tfidf_vect_trans = tfidf_vect.transform(X_train)\n",
        "X_test_tfidf_vect_trans = tfidf_vect.transform(X_test)"
      ],
      "metadata": {
        "id": "_kYtWA0kKRzN"
      },
      "id": "_kYtWA0kKRzN",
      "execution_count": 13,
      "outputs": []
    },
    {
      "cell_type": "markdown",
      "source": [
        "# Train / Inference / Validation"
      ],
      "metadata": {
        "id": "Vu9dPIJvMHSV"
      },
      "id": "Vu9dPIJvMHSV"
    },
    {
      "cell_type": "code",
      "source": [
        "def plot_learning_curves(model, X_train, X_val, y_train, y_val):\n",
        "    train_errors, val_errors = [], []\n",
        "    for m in range(20, len(X_train), 10):\n",
        "        model.fit(X_train[:m], y_train[:m])\n",
        "        y_train_predict = model.predict(X_train[:m])\n",
        "        y_val_predict = model.predict(X_val)\n",
        "        train_errors.append(f1_score(y_train[:m], y_train_predict) * 100)\n",
        "        val_errors.append(f1_score(y_val, y_val_predict) * 100)\n",
        "\n",
        "    plt.plot(train_errors, \"r-+\", linewidth=2, label=\"train\")\n",
        "    plt.plot(val_errors, \"b-\", linewidth=3, label=\"val\")\n",
        "    plt.legend(loc=\"upper right\", fontsize=14)\n",
        "    plt.xlabel(\"\", fontsize=14)\n",
        "    plt.ylabel(\"F1\", fontsize=14)"
      ],
      "metadata": {
        "id": "SP4So_amTcbu"
      },
      "id": "SP4So_amTcbu",
      "execution_count": 14,
      "outputs": []
    },
    {
      "cell_type": "markdown",
      "source": [
        "Logistic Regression + Count Vectorizer\n",
        "\n",
        "> Indented block\n",
        "\n"
      ],
      "metadata": {
        "id": "BFszFqHLOhl7"
      },
      "id": "BFszFqHLOhl7"
    },
    {
      "cell_type": "code",
      "source": [
        "log_clf = linear_model.LogisticRegression(penalty='l2', max_iter=1000, fit_intercept=True)\n",
        "\n",
        "log_scores = cross_val_score(log_clf, X_train_count_vect_trans, y_train, cv=10)\n",
        "log_scores.mean()"
      ],
      "metadata": {
        "colab": {
          "base_uri": "https://localhost:8080/"
        },
        "id": "xo1Fc4GaKYnv",
        "outputId": "a4a5c4c1-52de-4efc-edf1-a864d0a7d0e7"
      },
      "id": "xo1Fc4GaKYnv",
      "execution_count": 16,
      "outputs": [
        {
          "output_type": "execute_result",
          "data": {
            "text/plain": [
              "0.9857142857142858"
            ]
          },
          "metadata": {},
          "execution_count": 16
        }
      ]
    },
    {
      "cell_type": "markdown",
      "source": [
        "Logistic Regression + Tfidf Vectorizer"
      ],
      "metadata": {
        "id": "EF_JD5ihO0RG"
      },
      "id": "EF_JD5ihO0RG"
    },
    {
      "cell_type": "code",
      "source": [
        "log_clf = linear_model.LogisticRegression(penalty='l2', max_iter=1000, fit_intercept=True)\n",
        "\n",
        "log_scores = cross_val_score(log_clf, X_train_tfidf_vect_trans, y_train, cv=10)\n",
        "log_scores.mean()"
      ],
      "metadata": {
        "colab": {
          "base_uri": "https://localhost:8080/"
        },
        "id": "XwpvwoxkSi2L",
        "outputId": "916328e5-6852-4d44-dbcd-77e15c04e938"
      },
      "id": "XwpvwoxkSi2L",
      "execution_count": 17,
      "outputs": [
        {
          "output_type": "execute_result",
          "data": {
            "text/plain": [
              "0.9562258687258689"
            ]
          },
          "metadata": {},
          "execution_count": 17
        }
      ]
    },
    {
      "cell_type": "markdown",
      "source": [
        "DecisionTree + Count Vectorizer"
      ],
      "metadata": {
        "id": "eqQew2QfPi8a"
      },
      "id": "eqQew2QfPi8a"
    },
    {
      "cell_type": "code",
      "source": [
        "dt_clf = tree.DecisionTreeClassifier()\n",
        "dt_scores = cross_val_score(dt_clf, X_train_count_vect_trans, y_train, cv=10)\n",
        "dt_scores.mean()"
      ],
      "metadata": {
        "colab": {
          "base_uri": "https://localhost:8080/"
        },
        "id": "LLkN3nqpN319",
        "outputId": "ae901171-6ce7-465f-a501-a381b770054f"
      },
      "id": "LLkN3nqpN319",
      "execution_count": 18,
      "outputs": [
        {
          "output_type": "execute_result",
          "data": {
            "text/plain": [
              "0.9785714285714286"
            ]
          },
          "metadata": {},
          "execution_count": 18
        }
      ]
    },
    {
      "cell_type": "markdown",
      "source": [
        "DecisionTree + Tfidf Vectorizer"
      ],
      "metadata": {
        "id": "8vvDjazmPocw"
      },
      "id": "8vvDjazmPocw"
    },
    {
      "cell_type": "code",
      "source": [
        "dt_clf = tree.DecisionTreeClassifier()\n",
        "dt_scores = cross_val_score(dt_clf, X_train_tfidf_vect_trans, y_train, cv=10)\n",
        "dt_scores.mean()"
      ],
      "metadata": {
        "colab": {
          "base_uri": "https://localhost:8080/"
        },
        "id": "FmpOA8sCPtXX",
        "outputId": "e0fa771c-cedf-4499-a762-5c697e2eb0fd"
      },
      "id": "FmpOA8sCPtXX",
      "execution_count": 19,
      "outputs": [
        {
          "output_type": "execute_result",
          "data": {
            "text/plain": [
              "0.9919642857142857"
            ]
          },
          "metadata": {},
          "execution_count": 19
        }
      ]
    },
    {
      "cell_type": "markdown",
      "source": [
        "Bnb + Count Vectorizer"
      ],
      "metadata": {
        "id": "l3d87pesSFAc"
      },
      "id": "l3d87pesSFAc"
    },
    {
      "cell_type": "code",
      "source": [
        "bnb = naive_bayes.BernoulliNB()\n",
        "bnb.fit(X_train_count_vect_trans, y_train)\n",
        "\n",
        "bnb_scores = cross_val_score(bnb, X_train_count_vect_trans, y_train, cv=10)\n",
        "bnb_scores.mean()"
      ],
      "metadata": {
        "colab": {
          "base_uri": "https://localhost:8080/"
        },
        "id": "QmUZnJfpQFUY",
        "outputId": "2d04e9a1-005a-4a45-e167-42198fdd9598"
      },
      "id": "QmUZnJfpQFUY",
      "execution_count": 27,
      "outputs": [
        {
          "output_type": "execute_result",
          "data": {
            "text/plain": [
              "0.7667149292149292"
            ]
          },
          "metadata": {},
          "execution_count": 27
        }
      ]
    },
    {
      "cell_type": "markdown",
      "source": [
        "Bnb + Tfidf Vectorizer"
      ],
      "metadata": {
        "id": "ZJtgNUXZP2ZI"
      },
      "id": "ZJtgNUXZP2ZI"
    },
    {
      "cell_type": "code",
      "source": [
        "bnb = naive_bayes.BernoulliNB()\n",
        "bnb.fit(X_train_tfidf_vect_trans, y_train)\n",
        "\n",
        "bnb_scores = cross_val_score(bnb, X_train_tfidf_vect_trans, y_train, cv=10)\n",
        "bnb_scores.mean()"
      ],
      "metadata": {
        "colab": {
          "base_uri": "https://localhost:8080/"
        },
        "id": "h33SZ646SKgG",
        "outputId": "f7eecb2d-18c1-4cab-da06-c2166af3e5ea"
      },
      "id": "h33SZ646SKgG",
      "execution_count": 26,
      "outputs": [
        {
          "output_type": "execute_result",
          "data": {
            "text/plain": [
              "0.7667149292149292"
            ]
          },
          "metadata": {},
          "execution_count": 26
        }
      ]
    }
  ],
  "metadata": {
    "kernelspec": {
      "display_name": "Python 3",
      "language": "python",
      "name": "python3"
    },
    "language_info": {
      "codemirror_mode": {
        "name": "ipython",
        "version": 3
      },
      "file_extension": ".py",
      "mimetype": "text/x-python",
      "name": "python",
      "nbconvert_exporter": "python",
      "pygments_lexer": "ipython3",
      "version": "3.7.12"
    },
    "papermill": {
      "default_parameters": {},
      "duration": 13.966245,
      "end_time": "2022-10-14T14:58:14.175433",
      "environment_variables": {},
      "exception": null,
      "input_path": "__notebook__.ipynb",
      "output_path": "__notebook__.ipynb",
      "parameters": {},
      "start_time": "2022-10-14T14:58:00.209188",
      "version": "2.3.4"
    },
    "colab": {
      "provenance": []
    }
  },
  "nbformat": 4,
  "nbformat_minor": 5
}